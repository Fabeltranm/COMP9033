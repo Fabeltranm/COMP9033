{
 "cells": [
  {
   "cell_type": "markdown",
   "metadata": {},
   "source": [
    "# COMP9033 - Data Analytics Lab 01: Statistics\n",
    "## Introduction\n",
    "\n",
    "This week's lab deals with the computation of basic statistics about data. At the end of the lab, you should be able to:\n",
    "\n",
    "- Compute some basic statistics about data.\n",
    "- Plot histograms of data.\n",
    "\n",
    "The lab itself is short but, before we get started, there are a few things to cover.\n",
    "\n",
    "### Python\n",
    "\n",
    "To complete the lab, you will need some previous experience of reading and writing Python code. If you don't have any previous experience of Python, don't worry! This course only requires that you know the basics and these are easy to pick up in a few hours.\n",
    "\n",
    "The best place to start learning is [Codecademy](https://www.codecademy.com/en/tracks/python). This is a free, interactive, online course and is designed for beginners. You don't have to complete the whole thing - if you stop after Section 8, you will have covered just about everything you need to know for this class.\n",
    "\n",
    "### Jupyter Notebook\n",
    "\n",
    "The Jupyter Notebook is the browser-based environment you're reading this text in. Using the notebook is relatively painless, but if you do get stuck, there's plenty of help available in the [official Jupyter Notebook support documentation](https://jupyter-notebook.readthedocs.io/en/latest/). Be sure to have a quick glance at [What is the Jupyter Notebook?](https://jupyter-notebook.readthedocs.io/en/latest/examples/Notebook/What%20is%20the%20Jupyter%20Notebook.html), [Notebook Basics](https://jupyter-notebook.readthedocs.io/en/latest/examples/Notebook/Notebook%20Basics.html) and [Running Code](https://jupyter-notebook.readthedocs.io/en/latest/examples/Notebook/Running%20Code.html) topics. Each week, labs will be distributed in Jupyter Notebook format, so it's best to get familiar with it as quickly as possible. \n",
    "\n",
    "Before we start, let's take a quick tour of the notebook interface. To start the tour, click the *Help* menu above and select *User Interface Tour*. When you're finished, take a look at Jupyter's keyboard shortcuts. You can find these by clicking the *Help* menu above and selecting *Keyboard Shortcuts*.\n",
    "\n",
    "## The price of gold\n",
    "\n",
    "Let's compute some statistics about how the price of gold behaves between 2000 and 2010. Because this is the first lab, we won't worry about how to load the data so let's just use the list below, which contains gold prices (in units of US Dollars per ounce) at the start of each month from January 1st 2000 to December 1st 2010. To load the data into the <tt>gold_prices</tt> variable, click the box below and press `Shift+Enter`."
   ]
  },
  {
   "cell_type": "code",
   "execution_count": null,
   "metadata": {
    "collapsed": false
   },
   "outputs": [],
   "source": [
    "gold_prices = [284.58999999999997, 300.85500000000002, 286.70400000000001,\n",
    "               279.96100000000001, 275.29300000000001, 285.36799999999999,\n",
    "               282.15199999999999, 274.52299999999997, 273.67599999999999,\n",
    "               270.40499999999997, 265.98900000000003, 271.892,\n",
    "               265.93400000000003, 262.01799999999997, 263.27299999999997,\n",
    "               260.75, 260.75, 270.738,\n",
    "               267.70699999999999, 272.65699999999998, 282.47800000000001,\n",
    "               283.322, 276.24799999999999, 275.99200000000002,\n",
    "               281.76400000000001, 295.68299999999999, 294.35300000000001,\n",
    "               302.86200000000002, 314.48000000000002, 321.536,\n",
    "               313.56700000000001, 310.04500000000002, 318.80000000000001,\n",
    "               316.74799999999999, 319.255, 333.30000000000001,\n",
    "               356.86400000000003, 359.57499999999999,\n",
    "               341.56400000000002, 328.20800000000003, 355.40499999999997,\n",
    "               356.91199999999998, 350.76499999999999, 358.99300000000005,\n",
    "               378.85900000000004, 379.09300000000002, 390.19999999999999,\n",
    "               407.67400000000004, 414.495, 404.73000000000002,\n",
    "               405.976, 404.85000000000002, 383.95300000000003,\n",
    "               391.77999999999997, 398.44099999999997, 400.13300000000004,\n",
    "               405.40199999999999, 420.20999999999998, 439.05900000000003,\n",
    "               442.97399999999999, 424.07999999999998, 423.43000000000001,\n",
    "               434.35500000000002, 429.13999999999999, 422.90300000000002,\n",
    "               430.30199999999996, 424.745, 437.77300000000002,\n",
    "               455.93599999999998, 470.10699999999997, 476.66800000000001,\n",
    "               509.423, 549.43299999999999, 555.51800000000003,\n",
    "               557.21500000000003, 611.85300000000007, 676.76899999999989,\n",
    "               597.89800000000002, 633.09300000000007, 631.55700000000002,\n",
    "               600.14999999999998, 586.64800000000002, 626.82500000000005,\n",
    "               629.51300000000003, 630.35199999999998, 665.10300000000007,\n",
    "               655.89100000000008, 680.00800000000004, 668.30999999999995,\n",
    "               655.71399999999994, 665.26600000000008, 664.52999999999997,\n",
    "               710.64499999999998, 754.48000000000002, 808.31100000000004,\n",
    "               803.61800000000005, 887.78399999999999, 924.28300000000002,\n",
    "               971.05499999999995, 911.60000000000002, 889.125,\n",
    "               889.53600000000006, 941.16699999999992, 840.38800000000003,\n",
    "               824.91999999999996, 812.81500000000005, 757.85000000000002,\n",
    "               819.94000000000005, 857.72600000000011, 939.76300000000003,\n",
    "               925.98899999999992, 892.66300000000001, 926.85500000000002,\n",
    "               947.80700000000002, 934.27199999999993, 949.5,\n",
    "               996.44299999999998, 1043.511, 1126.1189999999999,\n",
    "               1135.0119999999999]"
   ]
  },
  {
   "cell_type": "markdown",
   "metadata": {},
   "source": [
    "## Computing statistics\n",
    "\n",
    "### Measures of central tendency\n",
    "\n",
    "Let's start by computing some measures of central tendency: the arithmetic mean, the median and the mode. Don't worry if these terms are a little unfamiliar - we'll cover them in more detail in Lecture 02. If you'd like to quickly revise some basic statistics before continuing, then check out the Khan Academy course on statistics [here](https://www.khanacademy.org/math/cc-sixth-grade-math/cc-6th-data-statistics).\n",
    "\n",
    "#### Arithmetic mean\n",
    "\n",
    "Let's write a Python function to compute the [*arithmetic mean*](https://www.khanacademy.org/math/cc-sixth-grade-math/cc-6th-data-statistics#mean-and-median) (i.e. average) price of gold in our sample. The arithmetic mean of the sample $X = \\{x_1, x_2, \\ldots, x_n\\}$ is denoted by $\\bar{x}$ and defined as \n",
    "\n",
    "$$\\bar{x} = \\frac{1}{n} \\sum_{i=1}^{n} x_i.$$\n",
    "\n",
    "Complete the function in the cell below and run the test in the cell after to check that you've got it right. If you see an error when you run the test, revise your code for the `my_mean` method and try again. Remember, to run a cell, click on it and press `Shift`-`Enter`."
   ]
  },
  {
   "cell_type": "code",
   "execution_count": null,
   "metadata": {
    "collapsed": false
   },
   "outputs": [],
   "source": [
    "def my_mean(data):\n",
    "    \"\"\"\n",
    "    Returns the average value of the numbers in the given list.\n",
    "    \"\"\"\n",
    "    # Your code here"
   ]
  },
  {
   "cell_type": "code",
   "execution_count": null,
   "metadata": {
    "collapsed": false
   },
   "outputs": [],
   "source": [
    "### Run this cell to check that your function is correct\n",
    "assert my_mean([1, 2, 3, 4, 5]) == 3"
   ]
  },
  {
   "cell_type": "markdown",
   "metadata": {},
   "source": [
    "Did the test pass? If it did, then you can now compute the mean gold price by applying the function like this:"
   ]
  },
  {
   "cell_type": "code",
   "execution_count": null,
   "metadata": {
    "collapsed": false
   },
   "outputs": [],
   "source": [
    "my_mean(gold_prices)"
   ]
  },
  {
   "cell_type": "markdown",
   "metadata": {},
   "source": [
    "Writing Python methods is fun, but writing methods to compute each kind of statistic we want will take a lot of time and, the more code we write, the higher the chance we will make mistakes. Fortunately, Python has a rich set of numerical libraries, so we don't have to!\n",
    "\n",
    "The most popular Python statistics library is SciPy. SciPy has a large suite of functions for computing statistics, including the mean, median and mode. You can find the complete list for the main SciPy module [here](https://docs.scipy.org/doc/numpy/reference/routines.statistics.html) and for the `stats` submodule [here](https://docs.scipy.org/doc/scipy/reference/stats.html). We can start using the functions in SciPy and its `stats` submodule by importing them using an `import` statement, like this:"
   ]
  },
  {
   "cell_type": "code",
   "execution_count": null,
   "metadata": {
    "collapsed": true
   },
   "outputs": [],
   "source": [
    "from scipy import *       # Import everything from SciPy\n",
    "from scipy.stats import * # Import everything from the stats submodule"
   ]
  },
  {
   "cell_type": "markdown",
   "metadata": {},
   "source": [
    "Now, we can compute the average gold price using SciPy's [`mean`](https://docs.scipy.org/doc/numpy/reference/generated/numpy.mean.html#numpy.mean) method like this:"
   ]
  },
  {
   "cell_type": "code",
   "execution_count": null,
   "metadata": {
    "collapsed": false
   },
   "outputs": [],
   "source": [
    "mean(gold_prices) # This should look close to the result from your `mean` method, \n",
    "                  # but there might be a small difference due to numerical tolerance."
   ]
  },
  {
   "cell_type": "markdown",
   "metadata": {},
   "source": [
    "Now that we've got SciPy imported, let's compute other kinds of statistics!\n",
    "\n",
    "#### Median\n",
    "\n",
    "The [median value](https://www.khanacademy.org/math/cc-sixth-grade-math/cc-6th-data-statistics#mean-and-median) of the sample $X = \\{x_1, x_2, \\ldots, x_n\\}$ is defined as the middle value of the individual sample elements when arranged in ascending order (i.e. from smallest to largest). We can compute the median value, denoted by $\\tilde{x}$, using the following formula:\n",
    "\n",
    "$$\\tilde{x} = \\left\\{\n",
    "  \\begin{array}{l l}\n",
    "    x_{\\frac{n+1}{2}}, & \\quad \\text{if } n \\text{ is odd}, \\\\\n",
    "    \\frac{x_{\\frac{n}{2}} + x_{\\frac{n}{2}+1}}{2}, & \\quad \\text{if } n \\text{ is even},\\\\\n",
    "  \\end{array} \\right.$$\n",
    "\n",
    "after sorting the elements of $X$ in ascending order. To do this in Python, we would have to write a function that takes a list of numbers as its input, sorts them in ascending order and applies the first definition if the number of data points is even or the second definition if the number of data points is odd. This would take quite a bit of effort to code!\n",
    "\n",
    "With SciPy, computing the median is simple. We just need to use the [`median`](https://docs.scipy.org/doc/numpy/reference/generated/numpy.median.html#numpy.median) method like this:"
   ]
  },
  {
   "cell_type": "code",
   "execution_count": null,
   "metadata": {
    "collapsed": false
   },
   "outputs": [],
   "source": [
    "median(gold_prices)"
   ]
  },
  {
   "cell_type": "markdown",
   "metadata": {},
   "source": [
    "#### Mode\n",
    "\n",
    "The [mode](https://www.khanacademy.org/math/cc-sixth-grade-math/cc-6th-data-statistics#mean-and-median) of the sample $X = \\{x_1, x_2, \\ldots, x_n\\}$ is defined as its most common value. Again, we could write a function to compute this for us, but why go to that effort when we can just use SciPy?"
   ]
  },
  {
   "cell_type": "code",
   "execution_count": null,
   "metadata": {
    "collapsed": false
   },
   "outputs": [],
   "source": [
    "mode(gold_prices)"
   ]
  },
  {
   "cell_type": "markdown",
   "metadata": {},
   "source": [
    "The output of the mode command might look a bit confusing, but the [documentation](https://docs.scipy.org/doc/scipy/reference/generated/scipy.stats.mode.html#scipy.stats.mode) clears things up for us: the first returned number is the mode, while the second returned number is the number of times the mode appears in the input. In our case, the mode of `gold_prices` is `260.75`, but this number appears just *twice* in the list.\n",
    "\n",
    "### Measures of dispersion\n",
    "\n",
    "Next, let's compute some measures of dispersion.\n",
    "\n",
    "#### Standard deviation\n",
    "\n",
    "The standard deviation of the sample $X = \\{x_1, x_2, \\ldots, x_n\\}$ is denoted by $\\sigma_{_X}$ and is defined as\n",
    "\n",
    "$$\\sigma_{_X} = \\sqrt{\\frac{1}{n-1} \\sum_{i = 1}^{n} (x_i - \\bar{x})^2}.$$\n",
    "\n",
    "This would be time consuming to code and test! Luckily, with SciPy, we can just use the [`tstd`](https://docs.scipy.org/doc/scipy/reference/generated/scipy.stats.tstd.html#scipy.stats.tstd) function:"
   ]
  },
  {
   "cell_type": "code",
   "execution_count": null,
   "metadata": {
    "collapsed": false
   },
   "outputs": [],
   "source": [
    "tstd(gold_prices)"
   ]
  },
  {
   "cell_type": "markdown",
   "metadata": {},
   "source": [
    "Computing the sample variance is similar - we just use the [`tvar`](https://docs.scipy.org/doc/scipy/reference/generated/scipy.stats.tvar.html#scipy.stats.tvar) method, like this:"
   ]
  },
  {
   "cell_type": "code",
   "execution_count": null,
   "metadata": {
    "collapsed": false
   },
   "outputs": [],
   "source": [
    "tvar(gold_prices)"
   ]
  },
  {
   "cell_type": "markdown",
   "metadata": {},
   "source": [
    "> **Note:** There are also functions called `std` and `var`, but these compute the standard deviation and variance of *populations*, not *samples*. The difference is a subtle one, but very important (if you're interested in specifics, you can read more [here](https://en.wikipedia.org/wiki/Standard_deviation#Corrected_sample_standard_deviation)). As a general rule, you should use the *sample* standard deviation measure (i.e. `tstd` in SciPy) and *sample* variance measure (i.e. `tvar` in SciPy) when computing standard deviations and variances, unless you have a specific reason not to.\n",
    "\n",
    "#### Interquartile range\n",
    "\n",
    "We can also compute the [interquartile range](https://www.khanacademy.org/math/cc-sixth-grade-math/cc-6th-data-statistics#cc-6th) using SciPy. For this, we'll need to use SciPy's [`percentile`](https://docs.scipy.org/doc/numpy/reference/generated/numpy.percentile.html) method.\n",
    "\n",
    "> **Note:** A percentile measures the values in a distribution in increments of one percent, while a quartile measures them in increments of twenty five percent. So, the 25<sup>th</sup> percentile is equivalent to the first quartile, i.e. both measure the range of the first 25% of the data when sorted in ascending order.\n",
    "\n",
    "To compute the interquartile range, we compute the 75% percentile and the 25% percentile and measure the difference between the two:"
   ]
  },
  {
   "cell_type": "code",
   "execution_count": null,
   "metadata": {
    "collapsed": false
   },
   "outputs": [],
   "source": [
    "q1, q3 = percentile(gold_prices, [25, 75])\n",
    "iqr = q3 - q1\n",
    "print(iqr) # Print the result"
   ]
  },
  {
   "cell_type": "markdown",
   "metadata": {},
   "source": [
    "### Other statistical measures\n",
    "\n",
    "#### Standard score\n",
    "\n",
    "We can compute the standard score for each of the data points in `gold_prices` using SciPy's [`zscore`](https://docs.scipy.org/doc/scipy/reference/generated/scipy.stats.zscore.html) method, which saves us having to compute the mean and standard deviation separately:"
   ]
  },
  {
   "cell_type": "code",
   "execution_count": null,
   "metadata": {
    "collapsed": false
   },
   "outputs": [],
   "source": [
    "zscores = zscore(gold_prices)\n",
    "print(zscores[0:5]) # Just print the first five to save space"
   ]
  },
  {
   "cell_type": "markdown",
   "metadata": {},
   "source": [
    "#### Pearson correlation coefficient\n",
    "\n",
    "We can also compute the Pearson correlation coefficient using the `pearsonr` function, like this:"
   ]
  },
  {
   "cell_type": "code",
   "execution_count": null,
   "metadata": {
    "collapsed": false
   },
   "outputs": [],
   "source": [
    "pearsonr(gold_prices, gold_prices)"
   ]
  },
  {
   "cell_type": "markdown",
   "metadata": {},
   "source": [
    "Like the `mode` method earlier, the output is a little confusing here. A quick check of the [documentation](https://docs.scipy.org/doc/scipy/reference/generated/scipy.stats.pearsonr.html#scipy.stats.pearsonr) shows us that the first returned number is the correlation coefficient, while the second is the rough probability of this correlation occuring by chance alone (more on this in Lecture 02). Because we computed the correlation between our gold price sample and itself, the coefficient is 1 (a sample is always completely correlated to itself).\n",
    "\n",
    "To get the coefficient value by itself, we can just write:"
   ]
  },
  {
   "cell_type": "code",
   "execution_count": null,
   "metadata": {
    "collapsed": false
   },
   "outputs": [],
   "source": [
    "r, p = pearsonr(gold_prices, gold_prices) # Assign the first number to r, the second to p\n",
    "print(r)"
   ]
  },
  {
   "cell_type": "markdown",
   "metadata": {},
   "source": [
    "## Plotting the data"
   ]
  },
  {
   "cell_type": "markdown",
   "metadata": {},
   "source": [
    "Finally, let's take a quick look at how to plot a histogram of the data. To do this, we'll need to do two things:\n",
    "\n",
    " 1. Import a plotting library. SciPy is great for computing statistics, but has no support for creating graphics.\n",
    " 2. Enable the display of inline graphics in the notebook, so that plots appear just like web page images.\n",
    "\n",
    "To do the first, we'll use the `matplotlib` plotting package, which is one of the most popular plotting libraries available in Python and is built to operate well with SciPy. To import `matplotlib`, we use another `import` statement, like this:"
   ]
  },
  {
   "cell_type": "code",
   "execution_count": null,
   "metadata": {
    "collapsed": false
   },
   "outputs": [],
   "source": [
    "from matplotlib import pyplot as plt # So we can refer to it as plt\n",
    "import seaborn as sns # Override the default matplotlib options to make our plots look nice"
   ]
  },
  {
   "cell_type": "markdown",
   "metadata": {},
   "source": [
    "Next, we need to enable inline graphics in the notebook. This is easy to do using the Jupyter Notebook \"magic command\" `%matplotlib inline`:"
   ]
  },
  {
   "cell_type": "code",
   "execution_count": null,
   "metadata": {
    "collapsed": true
   },
   "outputs": [],
   "source": [
    "%matplotlib inline"
   ]
  },
  {
   "cell_type": "markdown",
   "metadata": {},
   "source": [
    "Now, we can make a simple plot of the data using matplotlib's [`plot`](http://matplotlib.org/api/pyplot_api.html#matplotlib.pyplot.plot) method, like this:"
   ]
  },
  {
   "cell_type": "code",
   "execution_count": null,
   "metadata": {
    "collapsed": false
   },
   "outputs": [],
   "source": [
    "plt.plot(gold_prices)          # Plot the data\n",
    "plt.xlabel(\"Sample number\")    # Set the x axis label\n",
    "plt.ylabel(\"Price (USD / oz)\") # Set the y axis label"
   ]
  },
  {
   "cell_type": "markdown",
   "metadata": {},
   "source": [
    "We can also plot a histogram of the data in the browser using matplotlib's [`hist`](http://matplotlib.org/api/pyplot_api.html#matplotlib.pyplot.hist) method, like this:"
   ]
  },
  {
   "cell_type": "code",
   "execution_count": null,
   "metadata": {
    "collapsed": false
   },
   "outputs": [],
   "source": [
    "plt.hist(gold_prices)          # Create the histogram\n",
    "plt.xlabel(\"Price (USD / oz)\") # Set the x axis label\n",
    "plt.ylabel(\"Frequency\")        # Set the y axis label"
   ]
  }
 ],
 "metadata": {
  "kernelspec": {
   "display_name": "Python 2",
   "language": "python",
   "name": "python2"
  },
  "language_info": {
   "codemirror_mode": {
    "name": "ipython",
    "version": 2
   },
   "file_extension": ".py",
   "mimetype": "text/x-python",
   "name": "python",
   "nbconvert_exporter": "python",
   "pygments_lexer": "ipython2",
   "version": "2.7.12"
  }
 },
 "nbformat": 4,
 "nbformat_minor": 0
}
